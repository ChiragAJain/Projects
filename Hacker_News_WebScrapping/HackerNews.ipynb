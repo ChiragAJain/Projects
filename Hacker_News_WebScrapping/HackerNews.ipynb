{
 "cells": [
  {
   "cell_type": "markdown",
   "metadata": {},
   "source": [
    "# Hacker News Web Scrapping\n",
    "<hr>\n",
    "\n",
    "Through the following set of program blocks, we will access the HackerNews webpage : _https://news.ycombinator.com_, and get the stories with more than 100 votes."
   ]
  },
  {
   "cell_type": "markdown",
   "metadata": {},
   "source": [
    "We will first start by importing the requests library to send request to HTTP, and BeautifulSoup to parse the HTML files."
   ]
  },
  {
   "cell_type": "code",
   "execution_count": 3,
   "metadata": {},
   "outputs": [],
   "source": [
    "import requests as req\n",
    "from bs4 import BeautifulSoup as bs"
   ]
  },
  {
   "cell_type": "markdown",
   "metadata": {},
   "source": [
    "\n",
    "Once the neccessary libraries are imported, we will create a fucntion that will fetch the links, and text from the anchor tag with the votes from the `score` class in the HTML page.<br>\n",
    "It will append only those pages to the **_hn_** list that have votes greater than 100."
   ]
  },
  {
   "cell_type": "code",
   "execution_count": 4,
   "metadata": {},
   "outputs": [],
   "source": [
    "def create_custom_hn(links,subtext):\n",
    "    hn=[]\n",
    "    for idx,item in enumerate(links):\n",
    "        title=item.getText()\n",
    "        href= item.select('a')[0].get('href',None)\n",
    "        votes=subtext[idx].select('.score')\n",
    "        if len(votes):\n",
    "            points = int(votes[0].getText().replace(' points', ''))\n",
    "            if points>=100: \n",
    "                hn.append({'title':title,'link':href,'votes':points})\n",
    "    return hn"
   ]
  },
  {
   "cell_type": "markdown",
   "metadata": {},
   "source": [
    "We will create another functions that will sort the dictionary within the **_hn_** list in descending order of votes received."
   ]
  },
  {
   "cell_type": "code",
   "execution_count": 5,
   "metadata": {},
   "outputs": [],
   "source": [
    "def sort_by_votes(hnlist):\n",
    "    return sorted(hnlist,key=lambda k:k['votes'],reverse=True)"
   ]
  },
  {
   "cell_type": "markdown",
   "metadata": {},
   "source": [
    "Creating the main program that will scrape the website and perform the fucntions.\n",
    "Since we want the program to be dynamic and ask the user for the pages it wants the program the scrape to get the news. If the user does not enter any page number then, __*user_page_input*__=1."
   ]
  },
  {
   "cell_type": "code",
   "execution_count": 6,
   "metadata": {},
   "outputs": [],
   "source": [
    "user_page_input=int(input(\"Enter the number of pages you want to scrape:\"))\n",
    "try:\n",
    "    user_page_input=int(input(\"Enter the number of pages you want to scrape:\"))\n",
    "except ValueError:\n",
    "    user_page_input = 1"
   ]
  },
  {
   "cell_type": "markdown",
   "metadata": {},
   "source": [
    "Next we will _for loop_ through each page by using the `requests` library and use the `Beautiful Soup` package to parse the HTML page.\n",
    "We will assign the header of the news to **_links_** and the sub-header to **_subtext_**.  <br>\n",
    "The **_hn_** list will be appended to the final **_listing_** list."
   ]
  },
  {
   "cell_type": "code",
   "execution_count": 7,
   "metadata": {},
   "outputs": [
    {
     "name": "stdout",
     "output_type": "stream",
     "text": [
      "Displaying News from 3 pages....\n"
     ]
    }
   ],
   "source": [
    "print(f\"Displaying News from {user_page_input} page(s) of Hacker News....\")\n",
    "listing=[]\n",
    "for i in range(1,user_page_input+1):\n",
    "    res=req.get(f'https://news.ycombinator.com/?p={i}')\n",
    "    soup=bs(res.text,'html.parser')\n",
    "    links=soup.select('.titleline')\n",
    "    subtext=soup.select('.subtext')\n",
    "    listing.extend(create_custom_hn(links,subtext))\n",
    "listing=sort_by_votes(listing)"
   ]
  },
  {
   "cell_type": "markdown",
   "metadata": {},
   "source": [
    "We will loop through **_listing_** and get the data stored within the dictionaries in a presntable format."
   ]
  },
  {
   "cell_type": "code",
   "execution_count": 8,
   "metadata": {},
   "outputs": [
    {
     "name": "stdout",
     "output_type": "stream",
     "text": [
      "----------\n",
      "title : Nvidia Warp: A Python framework for high performance GPU simulation and graphics (github.com/nvidia)\n",
      "link : https://github.com/NVIDIA/warp\n",
      "votes : 394\n",
      "----------\n",
      "\n",
      "----------\n",
      "title : Start presentations on the second slide (tidyfirst.substack.com)\n",
      "link : https://tidyfirst.substack.com/p/start-presentations-on-the-second\n",
      "votes : 365\n",
      "----------\n",
      "\n",
      "----------\n",
      "title : I found a 55 year old bug in the first Lunar Lander game (martincmartin.com)\n",
      "link : https://martincmartin.com/2024/06/14/how-i-found-a-55-year-old-bug-in-the-first-lunar-lander-game/\n",
      "votes : 364\n",
      "----------\n",
      "\n",
      "----------\n",
      "title : The sun's magnetic field is about to flip (space.com)\n",
      "link : https://www.space.com/sun-magnetic-field-flip-solar-maximum-2024\n",
      "votes : 300\n",
      "----------\n",
      "\n",
      "----------\n",
      "title : Mouth-based touchpad enables people living with paralysis to use computers (news.mit.edu)\n",
      "link : https://news.mit.edu/2024/mouth-based-touchpad-augmental-0605\n",
      "votes : 294\n",
      "----------\n",
      "\n",
      "----------\n",
      "title : My thoughts on Python in Excel (xlwings.org)\n",
      "link : https://www.xlwings.org/blog/my-thoughts-on-python-in-excel\n",
      "votes : 274\n",
      "----------\n",
      "\n",
      "----------\n",
      "title : Fungus breaks down ocean plastic (nioz.nl)\n",
      "link : https://www.nioz.nl/en/news/fungus-breaks-down-ocean-plastic\n",
      "votes : 249\n",
      "----------\n",
      "\n",
      "----------\n",
      "title : The Swift compiler is slow due to how types are inferred (danielchasehooper.com)\n",
      "link : https://danielchasehooper.com/posts/why-swift-is-slow/\n",
      "votes : 241\n",
      "----------\n",
      "\n",
      "----------\n",
      "title : H.264 Is Magic (2016) (sidbala.com)\n",
      "link : https://sidbala.com/h-264-is-magic/\n",
      "votes : 217\n",
      "----------\n",
      "\n",
      "----------\n",
      "title : Microsoft to delay release of Recall AI feature on security concerns (reuters.com)\n",
      "link : https://www.reuters.com/technology/artificial-intelligence/microsoft-delay-release-recall-ai-feature-security-concerns-2024-06-14/\n",
      "votes : 217\n",
      "----------\n",
      "\n",
      "----------\n",
      "title : Cost of self hosting Llama-3 8B-Instruct (lytix.co)\n",
      "link : https://blog.lytix.co/posts/self-hosting-llama-3\n",
      "votes : 213\n",
      "----------\n",
      "\n",
      "----------\n",
      "title : AI Search: The Bitter-Er Lesson (yellow-apartment-148.notion.site)\n",
      "link : https://yellow-apartment-148.notion.site/AI-Search-The-Bitter-er-Lesson-44c11acd27294f4495c3de778cd09c8d\n",
      "votes : 210\n",
      "----------\n",
      "\n",
      "----------\n",
      "title : Sleep deprivation disrupts memory (nature.com)\n",
      "link : https://www.nature.com/articles/d41586-024-01732-y\n",
      "votes : 210\n",
      "----------\n",
      "\n",
      "----------\n",
      "title : Map of forest sounds from around the world (timberfestival.org.uk)\n",
      "link : https://timberfestival.org.uk/soundsoftheforest-soundmap/\n",
      "votes : 191\n",
      "----------\n",
      "\n",
      "----------\n",
      "title : The Microsoft Excel superstars throw down in Vegas (theverge.com)\n",
      "link : https://www.theverge.com/c/24133822/microsoft-excel-spreadsheet-competition-championship\n",
      "votes : 190\n",
      "----------\n",
      "\n",
      "----------\n",
      "title : Voyager 1 is back online! NASA spacecraft returns data from all 4 instruments (space.com)\n",
      "link : https://www.space.com/voyager-1-fully-operational\n",
      "votes : 185\n",
      "----------\n",
      "\n",
      "----------\n",
      "title : FAA investigating how counterfeit titanium got into Boeing and Airbus jets (nytimes.com)\n",
      "link : https://www.nytimes.com/2024/06/14/us/politics/boeing-airbus-titanium-faa.html\n",
      "votes : 182\n",
      "----------\n",
      "\n",
      "----------\n",
      "title : Snowden: \"They've gone full mask-off: do not ever trust OpenAI or its products\" (twitter.com/snowden)\n",
      "link : https://twitter.com/Snowden/status/1801610725229498403\n",
      "votes : 162\n",
      "----------\n",
      "\n",
      "----------\n",
      "title : POSIX.1-2024 is published (ieee.org)\n",
      "link : https://ieeexplore.ieee.org/document/10555529\n",
      "votes : 155\n",
      "----------\n",
      "\n",
      "----------\n",
      "title : The problem with OpenTelemetry (cra.mr)\n",
      "link : https://cra.mr/the-problem-with-otel/\n",
      "votes : 155\n",
      "----------\n",
      "\n",
      "----------\n",
      "title : Exponentially Better Rotations (thenumb.at)\n",
      "link : http://thenumb.at/Exponential-Rotations/\n",
      "votes : 154\n",
      "----------\n",
      "\n",
      "----------\n",
      "title : I bought an encyclopedia (optoutproject.net)\n",
      "link : https://www.optoutproject.net/what-is-true-on-the-internet/\n",
      "votes : 151\n",
      "----------\n",
      "\n",
      "----------\n",
      "title : Eden Abhez: The strangest hit songwriter (honest-broker.com)\n",
      "link : https://www.honest-broker.com/p/the-strangest-hit-songwriter-in-history\n",
      "votes : 132\n",
      "----------\n",
      "\n",
      "----------\n",
      "title : The borrow checker within (smallcultfollowing.com)\n",
      "link : https://smallcultfollowing.com/babysteps/blog/2024/06/02/the-borrow-checker-within/\n",
      "votes : 131\n",
      "----------\n",
      "\n",
      "----------\n",
      "title : How to design and manufacture your own chip [video] (youtube.com)\n",
      "link : https://www.youtube.com/watch?v=caXwuuXSB-A\n",
      "votes : 123\n",
      "----------\n",
      "\n",
      "----------\n",
      "title : Edmond Albius's method of pollination is now used by all vanilla growers (nautil.us)\n",
      "link : https://nautil.us/the-boy-who-was-king-of-vanilla-522772/\n",
      "votes : 118\n",
      "----------\n",
      "\n",
      "----------\n",
      "title : Chaos in the medium: Watercolour plotting (amygoodchild.com)\n",
      "link : https://www.amygoodchild.com/blog/watercolour-plots\n",
      "votes : 117\n",
      "----------\n",
      "\n",
      "----------\n",
      "title : Nemotron-4-340B (nvidia.com)\n",
      "link : https://blogs.nvidia.com/blog/nemotron-4-synthetic-data-generation-llm-training/\n",
      "votes : 112\n",
      "----------\n",
      "\n",
      "----------\n",
      "title : Effect – Build robust apps in TypeScript (effect.website)\n",
      "link : https://effect.website/\n",
      "votes : 112\n",
      "----------\n",
      "\n",
      "----------\n",
      "title : Satellite data show electromagnetic anomalies 19 days before Turkey earthquake (phys.org)\n",
      "link : https://phys.org/news/2024-06-satellite-reveal-electromagnetic-anomalies-days.html\n",
      "votes : 106\n",
      "----------\n",
      "\n",
      "----------\n",
      "title : The ‘Network of Web Trees’ in Gaza (globalvoices.org)\n",
      "link : https://globalvoices.org/2024/06/13/the-ingenious-network-tree-defying-gazas-connectivity-blockade/\n",
      "votes : 104\n",
      "----------\n",
      "\n",
      "----------\n",
      "title : Turning the Tables on AI (ia.net)\n",
      "link : https://ia.net/topics/turning-the-tables-on-ai\n",
      "votes : 103\n",
      "----------\n",
      "\n",
      "----------\n",
      "title : \"The Door Problem\" (2014) (lizengland.com)\n",
      "link : https://lizengland.com/blog/2014/04/the-door-problem/\n",
      "votes : 100\n",
      "----------\n",
      "\n"
     ]
    }
   ],
   "source": [
    "for i in listing:\n",
    "    print(\"-\"*10)\n",
    "    for j in i.keys():\n",
    "        print(j,':',i[j])\n",
    "    print(\"-\"*10)\n",
    "    print()"
   ]
  }
 ],
 "metadata": {
  "kernelspec": {
   "display_name": "Python 3",
   "language": "python",
   "name": "python3"
  },
  "language_info": {
   "codemirror_mode": {
    "name": "ipython",
    "version": 3
   },
   "file_extension": ".py",
   "mimetype": "text/x-python",
   "name": "python",
   "nbconvert_exporter": "python",
   "pygments_lexer": "ipython3",
   "version": "3.12.2"
  }
 },
 "nbformat": 4,
 "nbformat_minor": 2
}
