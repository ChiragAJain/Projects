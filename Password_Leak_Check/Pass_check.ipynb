{
 "cells": [
  {
   "cell_type": "markdown",
   "metadata": {},
   "source": [
    "# Password Checker\n",
    "<hr>\n",
    "\n",
    "This Program checks the usability of a password i.e. whether a password has been previously leaked or not. Here I am using the pwned API developed by Troy Hunt.<br>\n",
    "link: _`https://haveibeenpwned.com/Passwords`_\n"
   ]
  },
  {
   "cell_type": "markdown",
   "metadata": {},
   "source": [
    "### `Importing Modules`\n",
    "We will import 3 modules : Requests, hashlib & sys\n",
    "Request module will help us send a HTTP request via python.\n",
    "Hashlib is a built-in module in Python that will help us convert a string into hashcodes.\n",
    "Sys module will help us access the terminal arguments."
   ]
  },
  {
   "cell_type": "code",
   "execution_count": 1,
   "metadata": {},
   "outputs": [],
   "source": [
    "import requests as re\n",
    "import hashlib\n",
    "import sys"
   ]
  },
  {
   "cell_type": "markdown",
   "metadata": {},
   "source": [
    "### `User-defined Funtions`\n",
    "<hr>\n",
    "\n",
    "Create a function, _req_api_data_ that will request our password and give us a response i.e whether the connection was successful (Response 200) or was there any interfernce (Response 400) like unauthorized access or a client error.\n",
    "The reason we are using query_char which is a SHA1 hash type string instead of your password to ensure the anonymity of your password.\n"
   ]
  },
  {
   "cell_type": "code",
   "execution_count": 2,
   "metadata": {},
   "outputs": [],
   "source": [
    "def req_api_data(query_char):\n",
    "    url='https://api.pwnedpasswords.com/range/' + query_char\n",
    "    res=re.get(url)\n",
    "    if res.status_code != 200:\n",
    "        raise RuntimeError(f'Error fetching: {res.status_code}, check the api and try again')\n",
    "    return res\n"
   ]
  },
  {
   "cell_type": "markdown",
   "metadata": {},
   "source": [
    "The below function, _get_psw_leaks_count_ checks the hash\n",
    "We split the hash from the count. We then check if that hash matches with that of our password. If not, we return 0."
   ]
  },
  {
   "cell_type": "code",
   "execution_count": 3,
   "metadata": {},
   "outputs": [],
   "source": [
    "def get_psw_leaks_count(hashes, hash_to_check):\n",
    "    hashes=(line.split(':') for line in hashes.text.splitlines())\n",
    "    for h,count in hashes:\n",
    "        if h == hash_to_check:\n",
    "            return count\n",
    "    return 0"
   ]
  },
  {
   "cell_type": "markdown",
   "metadata": {},
   "source": [
    "The below function, _pwned_api_check_ will pass our actual password to check if it exists in the API.\n",
    "Converting our password to UTF-8 encoding and then into hexadecimal formatting. It Capitalizes each character and passes it to the \"sha1\" function of hashlib to convert into sha1 formatting.\n",
    "We separate the first five characters from the rest of sha1 code and pass to _req_api_data_ fuction to check if it is working."
   ]
  },
  {
   "cell_type": "code",
   "execution_count": 4,
   "metadata": {},
   "outputs": [],
   "source": [
    "def pwned_api_check(password):\n",
    "    sha1password = hashlib.sha1(password.encode('utf-8')).hexdigest().upper()\n",
    "    head5,tail = sha1password[:5],sha1password[5:]\n",
    "    response=req_api_data(head5)\n",
    "    return get_psw_leaks_count(response,tail)\n"
   ]
  },
  {
   "cell_type": "markdown",
   "metadata": {},
   "source": [
    "At the end, we check if the password was found or not i.e. if the count of leaks was greater than 0 or not. If it was then ask user to think of another password, otherwise ask them to go forward with the password."
   ]
  },
  {
   "cell_type": "code",
   "execution_count": 5,
   "metadata": {},
   "outputs": [],
   "source": [
    "def main(args):\n",
    "    for password in args:\n",
    "        count=pwned_api_check(password)\n",
    "        if count:\n",
    "            print(f'{password} was found {count} time.... you should change your password')\n",
    "        else:\n",
    "            print(f'{password} was not found.... you can carry on with this password')\n",
    "    return 'Checked!'\n"
   ]
  },
  {
   "cell_type": "markdown",
   "metadata": {},
   "source": [
    "We are using __sys__ here because we will be directly passing the passwords from the terminal.<br>\n",
    "_Note: If you try running this program in the notebook, it will pop an error. Rather copy all the program from each code cell and paste it in python file. Run the program from the terminal. <br> In the terminal type this: python <filename.py> (password1) (password2) (password3)...._"
   ]
  },
  {
   "cell_type": "code",
   "execution_count": null,
   "metadata": {},
   "outputs": [],
   "source": [
    "if __name__=='__main__':\n",
    "    sys.exit(main(sys.argv[1:]))"
   ]
  }
 ],
 "metadata": {
  "kernelspec": {
   "display_name": "Python 3",
   "language": "python",
   "name": "python3"
  },
  "language_info": {
   "codemirror_mode": {
    "name": "ipython",
    "version": 3
   },
   "file_extension": ".py",
   "mimetype": "text/x-python",
   "name": "python",
   "nbconvert_exporter": "python",
   "pygments_lexer": "ipython3",
   "version": "3.12.2"
  }
 },
 "nbformat": 4,
 "nbformat_minor": 2
}
